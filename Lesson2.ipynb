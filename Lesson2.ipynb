{
 "cells": [
  {
   "metadata": {
    "ExecuteTime": {
     "end_time": "2024-09-20T13:59:10.597604Z",
     "start_time": "2024-09-20T13:59:06.844173Z"
    }
   },
   "cell_type": "code",
   "source": [
    "a,b=int(input(\"a=\")),int(input(\"b=\"))\n",
    "if a>b: m=a\n",
    "else: m=b\n",
    "print(\"max=\",max(a,b),sep=\"\")"
   ],
   "id": "1948a6eacd240e",
   "outputs": [
    {
     "name": "stdout",
     "output_type": "stream",
     "text": [
      "max=9\n"
     ]
    }
   ],
   "execution_count": 6
  },
  {
   "metadata": {
    "ExecuteTime": {
     "end_time": "2024-09-20T14:08:26.248734Z",
     "start_time": "2024-09-20T14:08:22.750171Z"
    }
   },
   "cell_type": "code",
   "source": [
    "from math import *\n",
    "a,b,c=int(input(\"a=\")),int(input(\"b=\")),int(input(\"c=\"))\n",
    "D=b**2-4*a*c\n",
    "if D>0:\n",
    "    x1=(-b+sqrt(D))/(2*a)\n",
    "    x2=(-b-sqrt(D))/(2*a)\n",
    "    print(\"x1=\",\"{:6.2f}\".format(x1),\" x2=\",\"{:6.2f}\".format(x2),sep=\"\")\n",
    "elif D==0:\n",
    "    x=-b/(2*a)\n",
    "    print(\"x=\",\"{:6.2f}\".format(x))\n",
    "else:\n",
    "    print(\"Корней нет\")\n",
    "    \n",
    "    "
   ],
   "id": "215617a192c1d644",
   "outputs": [
    {
     "name": "stdout",
     "output_type": "stream",
     "text": [
      "x1= -0.33 x2= -2.00\n"
     ]
    }
   ],
   "execution_count": 8
  },
  {
   "metadata": {
    "ExecuteTime": {
     "end_time": "2024-09-20T14:26:00.784902Z",
     "start_time": "2024-09-20T14:26:00.775526Z"
    }
   },
   "cell_type": "code",
   "source": [
    "n=0\n",
    "x=10\n",
    "while n<=20:\n",
    "    n+=1\n",
    "    x+=0.1*x\n",
    "    print(\"{:3}\".format(n),\"{:6.2f}\".format(x))\n",
    "    # print(n,x)"
   ],
   "id": "b207d8af4a1f5df6",
   "outputs": [
    {
     "name": "stdout",
     "output_type": "stream",
     "text": [
      "  1  11.00\n",
      "  2  12.10\n",
      "  3  13.31\n",
      "  4  14.64\n",
      "  5  16.11\n",
      "  6  17.72\n",
      "  7  19.49\n",
      "  8  21.44\n",
      "  9  23.58\n",
      " 10  25.94\n",
      " 11  28.53\n",
      " 12  31.38\n",
      " 13  34.52\n",
      " 14  37.97\n",
      " 15  41.77\n",
      " 16  45.95\n",
      " 17  50.54\n",
      " 18  55.60\n",
      " 19  61.16\n",
      " 20  67.27\n",
      " 21  74.00\n"
     ]
    }
   ],
   "execution_count": 17
  },
  {
   "metadata": {
    "ExecuteTime": {
     "end_time": "2024-09-20T14:31:51.619338Z",
     "start_time": "2024-09-20T14:31:51.604201Z"
    }
   },
   "cell_type": "code",
   "source": [
    "x=1\n",
    "for x in range(11,1,-2):\n",
    "    print(\"{:3}\".format(x),\"{:6.2f}\".format(x**2))"
   ],
   "id": "245552f2936bffb",
   "outputs": [
    {
     "name": "stdout",
     "output_type": "stream",
     "text": [
      " 11 121.00\n",
      "  9  81.00\n",
      "  7  49.00\n",
      "  5  25.00\n",
      "  3   9.00\n"
     ]
    }
   ],
   "execution_count": 23
  },
  {
   "metadata": {
    "ExecuteTime": {
     "end_time": "2024-09-20T15:00:56.300751Z",
     "start_time": "2024-09-20T15:00:54.146664Z"
    }
   },
   "cell_type": "code",
   "source": [
    "def Line(N):\n",
    "    for i in range(1,N+1):\n",
    "        print(\"_\",end=\"\")\n",
    "n=int(input(\"Введите N:\"))\n",
    "Line(n)"
   ],
   "id": "e923ad2494548452",
   "outputs": [
    {
     "name": "stdout",
     "output_type": "stream",
     "text": [
      "___________________"
     ]
    }
   ],
   "execution_count": 25
  },
  {
   "metadata": {
    "ExecuteTime": {
     "end_time": "2024-09-20T15:04:20.096831Z",
     "start_time": "2024-09-20T15:04:20.074231Z"
    }
   },
   "cell_type": "code",
   "source": [
    "def Numbers(n):\n",
    "    k=1000\n",
    "    while k>0:\n",
    "        print(n//k)\n",
    "        n%=k\n",
    "        k//=10\n",
    "Numbers(1234)"
   ],
   "id": "15b3c2773d83a80",
   "outputs": [
    {
     "name": "stdout",
     "output_type": "stream",
     "text": [
      "1\n",
      "2\n",
      "3\n",
      "4\n"
     ]
    }
   ],
   "execution_count": 26
  },
  {
   "metadata": {
    "ExecuteTime": {
     "end_time": "2024-09-20T15:11:45.768306Z",
     "start_time": "2024-09-20T15:11:45.754273Z"
    }
   },
   "cell_type": "code",
   "source": [
    "def nod(a,b):\n",
    "    while a != 0 and b != 0:\n",
    "        if a > b:\n",
    "            a = a % b\n",
    "        else:\n",
    "            b = b % a\n",
    "    return a+b\n",
    "\n",
    "x=7006652\n",
    "y=112307574\n",
    "print(nod(x,y))"
   ],
   "id": "8be85683a20e2989",
   "outputs": [
    {
     "name": "stdout",
     "output_type": "stream",
     "text": [
      "1234\n"
     ]
    }
   ],
   "execution_count": 27
  },
  {
   "metadata": {},
   "cell_type": "code",
   "outputs": [],
   "execution_count": null,
   "source": "",
   "id": "34f3d2f74f7eae9b"
  }
 ],
 "metadata": {
  "kernelspec": {
   "display_name": "Python 3",
   "language": "python",
   "name": "python3"
  },
  "language_info": {
   "codemirror_mode": {
    "name": "ipython",
    "version": 2
   },
   "file_extension": ".py",
   "mimetype": "text/x-python",
   "name": "python",
   "nbconvert_exporter": "python",
   "pygments_lexer": "ipython2",
   "version": "2.7.6"
  }
 },
 "nbformat": 4,
 "nbformat_minor": 5
}
